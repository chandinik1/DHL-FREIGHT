{
 "cells": [
  {
   "cell_type": "code",
   "execution_count": 1,
   "id": "e31ea9db-15c9-4088-8595-a682b99743ef",
   "metadata": {},
   "outputs": [],
   "source": [
    "# Import libraries\n",
    "import pandas as pd\n",
    "import numpy as np"
   ]
  },
  {
   "cell_type": "code",
   "execution_count": 2,
   "id": "f73c3ad5-5a2a-4157-af0b-05262ddeff5f",
   "metadata": {},
   "outputs": [],
   "source": [
    "# Import dataset\n",
    "filename = \"2025-04-09+DATEN+OR+PRAKTKUM.xlsx\"\n",
    "df_terminals = pd.read_excel(filename, sheet_name = \"Standorte inkl. Kapa´s\")\n",
    "df_postalcodes = pd.read_excel(filename, sheet_name = \"PLZ inkl. Sendungsmengen\")\n",
    "df_distance_postalcodes_terminal = pd.read_excel(filename, sheet_name = \"DISTANZEN PLZ-TERMINAL\")\n",
    "df_distance_two_terminals = pd.read_excel(filename, sheet_name = \"DISTANZEN TERMINAL-TERMINAL\")\n",
    "df_shipmentvolume_postalcodes = pd.read_excel(filename, sheet_name = \"Sendungsmenge PLZ zu PLZ\")\n",
    "df_adjacent_postalcodes = pd.read_excel(filename, sheet_name = \"ADJAZENZ (BENACHBARTE PLZ)\")\n",
    "df_postalcodes_without_neighbors = pd.read_excel(filename, sheet_name = \"PLZ ohne Nachbarn\")"
   ]
  },
  {
   "cell_type": "code",
   "execution_count": 3,
   "id": "f5315442-e8ce-4b1d-b723-148d8e606795",
   "metadata": {},
   "outputs": [
    {
     "name": "stdout",
     "output_type": "stream",
     "text": [
      "<class 'pandas.core.frame.DataFrame'>\n",
      "RangeIndex: 39 entries, 0 to 38\n",
      "Data columns (total 10 columns):\n",
      " #   Column                                      Non-Null Count  Dtype  \n",
      "---  ------                                      --------------  -----  \n",
      " 0   Terminal code                               39 non-null     object \n",
      " 1   Terminal name                               39 non-null     object \n",
      " 2   Country ISO code                            39 non-null     object \n",
      " 3   X-DOCK ADDRESS: street and building number  39 non-null     object \n",
      " 4   X-DOCK ADDRESS: postal code                 39 non-null     int64  \n",
      " 5   X-DOCK ADDRESS: city                        39 non-null     object \n",
      " 6   LAT                                         39 non-null     float64\n",
      " 7   LON                                         39 non-null     float64\n",
      " 8   Partner                                     39 non-null     object \n",
      " 9   MAX. KAPA SE (# ZUSTELLUNGEN pro Tag)       39 non-null     int64  \n",
      "dtypes: float64(2), int64(2), object(6)\n",
      "memory usage: 3.2+ KB\n"
     ]
    }
   ],
   "source": [
    "# Summary of the DataFrame - Terminals\n",
    "df_terminals.info()\n",
    "#df_terminals.describe().round(decimals=2)\n",
    "\n",
    "# MAX. KAPA SE (# ZUSTELLUNGEN pro Tag) ---- translated as -----> Terminal max delivery capacity per day\n",
    "# There is a fixed maximum capacity per location for inbound shipments (i.e., deliveries).\n",
    "# Outbound shipments (pickups) can always be handled and are not capacity-limited.\t"
   ]
  },
  {
   "cell_type": "code",
   "execution_count": 4,
   "id": "554bf69f-e3af-434a-90fd-f051315e1599",
   "metadata": {},
   "outputs": [
    {
     "name": "stdout",
     "output_type": "stream",
     "text": [
      "<class 'pandas.core.frame.DataFrame'>\n",
      "RangeIndex: 8183 entries, 0 to 8182\n",
      "Data columns (total 9 columns):\n",
      " #   Column                   Non-Null Count  Dtype  \n",
      "---  ------                   --------------  -----  \n",
      " 0   PLZ (TEXT)               8183 non-null   int64  \n",
      " 1   PLZ (ZAHL)               8183 non-null   int64  \n",
      " 2   Name                     8183 non-null   object \n",
      " 3   LAT                      8183 non-null   float64\n",
      " 4   LON                      8183 non-null   float64\n",
      " 5   ZUORDNUNG IST            8183 non-null   object \n",
      " 6   PARTNER                  8183 non-null   object \n",
      " 7   Ø SENDUNGEN ABH pro Tag  8183 non-null   float64\n",
      " 8   Ø SENDUNGEN ZUS pro Tag  8183 non-null   float64\n",
      "dtypes: float64(4), int64(2), object(3)\n",
      "memory usage: 575.5+ KB\n"
     ]
    }
   ],
   "source": [
    "# Summary of the DataFrame - Postal Codes (PLZ)\n",
    "df_postalcodes.info()\n",
    "\n",
    "# ZUORDNUNG IST ---- translated as -----> Currently assigned Terminal by DHL (which is to be evaluated by Model for optimality).\n",
    "# Ø SENDUNGEN ABH pro Tag ---- translated as -----> Shipments pickup per day\n",
    "# Ø SENDUNGEN ZUS pro Tag ---- translated as ----->\tShipments delivery per day"
   ]
  },
  {
   "cell_type": "code",
   "execution_count": 5,
   "id": "596422d2-a131-4582-a93d-b85bbf4a31d8",
   "metadata": {},
   "outputs": [
    {
     "name": "stdout",
     "output_type": "stream",
     "text": [
      "<class 'pandas.core.frame.DataFrame'>\n",
      "RangeIndex: 319137 entries, 0 to 319136\n",
      "Data columns (total 6 columns):\n",
      " #   Column             Non-Null Count   Dtype  \n",
      "---  ------             --------------   -----  \n",
      " 0   von PLZ (TEXT)     319137 non-null  int64  \n",
      " 1   von PLZ (ZAHL)     319137 non-null  int64  \n",
      " 2   nach Terminalcode  319137 non-null  object \n",
      " 3   nach Terminal      319137 non-null  object \n",
      " 4   Distanz (km)       319137 non-null  float64\n",
      " 5   Fahrzeit (min)     319137 non-null  float64\n",
      "dtypes: float64(2), int64(2), object(2)\n",
      "memory usage: 14.6+ MB\n"
     ]
    }
   ],
   "source": [
    "# Summary of the DataFrame - Distance between Postal Codes (PLZ) & Terminals\n",
    "df_distance_postalcodes_terminal.info()"
   ]
  },
  {
   "cell_type": "code",
   "execution_count": 6,
   "id": "948ea940-7c79-4cae-bfe0-e3c39b883252",
   "metadata": {},
   "outputs": [
    {
     "name": "stdout",
     "output_type": "stream",
     "text": [
      "<class 'pandas.core.frame.DataFrame'>\n",
      "RangeIndex: 1521 entries, 0 to 1520\n",
      "Data columns (total 4 columns):\n",
      " #   Column          Non-Null Count  Dtype  \n",
      "---  ------          --------------  -----  \n",
      " 0   von             1521 non-null   object \n",
      " 1   nach            1521 non-null   object \n",
      " 2   Distanz (km)    1521 non-null   float64\n",
      " 3   Fahrzeit (min)  1521 non-null   int64  \n",
      "dtypes: float64(1), int64(1), object(2)\n",
      "memory usage: 47.7+ KB\n"
     ]
    }
   ],
   "source": [
    "# Summary of the DataFrame - Distance between two Terminals\n",
    "df_distance_two_terminals.info()"
   ]
  },
  {
   "cell_type": "code",
   "execution_count": 7,
   "id": "e147eaeb-05a9-46fe-bad6-2969ac351ebf",
   "metadata": {},
   "outputs": [
    {
     "data": {
      "text/html": [
       "<div>\n",
       "<style scoped>\n",
       "    .dataframe tbody tr th:only-of-type {\n",
       "        vertical-align: middle;\n",
       "    }\n",
       "\n",
       "    .dataframe tbody tr th {\n",
       "        vertical-align: top;\n",
       "    }\n",
       "\n",
       "    .dataframe thead th {\n",
       "        text-align: right;\n",
       "    }\n",
       "</style>\n",
       "<table border=\"1\" class=\"dataframe\">\n",
       "  <thead>\n",
       "    <tr style=\"text-align: right;\">\n",
       "      <th></th>\n",
       "      <th>von</th>\n",
       "      <th>nach</th>\n",
       "      <th>Distanz (km)</th>\n",
       "      <th>Fahrzeit (min)</th>\n",
       "      <th>Terminal code (von)</th>\n",
       "      <th>Terminal code (nach)</th>\n",
       "    </tr>\n",
       "  </thead>\n",
       "  <tbody>\n",
       "    <tr>\n",
       "      <th>0</th>\n",
       "      <td>Aachen</td>\n",
       "      <td>Aachen</td>\n",
       "      <td>0.00</td>\n",
       "      <td>0</td>\n",
       "      <td>AAH</td>\n",
       "      <td>AAH</td>\n",
       "    </tr>\n",
       "    <tr>\n",
       "      <th>1</th>\n",
       "      <td>Aachen</td>\n",
       "      <td>Altentreptow</td>\n",
       "      <td>775.29</td>\n",
       "      <td>734</td>\n",
       "      <td>AAH</td>\n",
       "      <td>AQW</td>\n",
       "    </tr>\n",
       "    <tr>\n",
       "      <th>2</th>\n",
       "      <td>Aachen</td>\n",
       "      <td>Berlin</td>\n",
       "      <td>603.04</td>\n",
       "      <td>573</td>\n",
       "      <td>AAH</td>\n",
       "      <td>BER</td>\n",
       "    </tr>\n",
       "    <tr>\n",
       "      <th>3</th>\n",
       "      <td>Aachen</td>\n",
       "      <td>Bielefeld</td>\n",
       "      <td>241.30</td>\n",
       "      <td>236</td>\n",
       "      <td>AAH</td>\n",
       "      <td>BFE</td>\n",
       "    </tr>\n",
       "    <tr>\n",
       "      <th>4</th>\n",
       "      <td>Aachen</td>\n",
       "      <td>Bremen</td>\n",
       "      <td>376.90</td>\n",
       "      <td>363</td>\n",
       "      <td>AAH</td>\n",
       "      <td>BRE</td>\n",
       "    </tr>\n",
       "    <tr>\n",
       "      <th>...</th>\n",
       "      <td>...</td>\n",
       "      <td>...</td>\n",
       "      <td>...</td>\n",
       "      <td>...</td>\n",
       "      <td>...</td>\n",
       "      <td>...</td>\n",
       "    </tr>\n",
       "    <tr>\n",
       "      <th>1516</th>\n",
       "      <td>Worms</td>\n",
       "      <td>Tempelhof</td>\n",
       "      <td>602.71</td>\n",
       "      <td>590</td>\n",
       "      <td>ZQV</td>\n",
       "      <td>THF</td>\n",
       "    </tr>\n",
       "    <tr>\n",
       "      <th>1517</th>\n",
       "      <td>Worms</td>\n",
       "      <td>Unterschleißheim</td>\n",
       "      <td>385.12</td>\n",
       "      <td>364</td>\n",
       "      <td>ZQV</td>\n",
       "      <td>MUC</td>\n",
       "    </tr>\n",
       "    <tr>\n",
       "      <th>1518</th>\n",
       "      <td>Worms</td>\n",
       "      <td>Villingen-Schwenningen</td>\n",
       "      <td>253.32</td>\n",
       "      <td>253</td>\n",
       "      <td>ZQV</td>\n",
       "      <td>VIS</td>\n",
       "    </tr>\n",
       "    <tr>\n",
       "      <th>1519</th>\n",
       "      <td>Worms</td>\n",
       "      <td>Weissenhorn</td>\n",
       "      <td>274.24</td>\n",
       "      <td>264</td>\n",
       "      <td>ZQV</td>\n",
       "      <td>QUL</td>\n",
       "    </tr>\n",
       "    <tr>\n",
       "      <th>1520</th>\n",
       "      <td>Worms</td>\n",
       "      <td>Worms</td>\n",
       "      <td>0.00</td>\n",
       "      <td>0</td>\n",
       "      <td>ZQV</td>\n",
       "      <td>ZQV</td>\n",
       "    </tr>\n",
       "  </tbody>\n",
       "</table>\n",
       "<p>1521 rows × 6 columns</p>\n",
       "</div>"
      ],
      "text/plain": [
       "         von                    nach  Distanz (km)  Fahrzeit (min)  \\\n",
       "0     Aachen                  Aachen          0.00               0   \n",
       "1     Aachen            Altentreptow        775.29             734   \n",
       "2     Aachen                  Berlin        603.04             573   \n",
       "3     Aachen               Bielefeld        241.30             236   \n",
       "4     Aachen                  Bremen        376.90             363   \n",
       "...      ...                     ...           ...             ...   \n",
       "1516   Worms               Tempelhof        602.71             590   \n",
       "1517   Worms        Unterschleißheim        385.12             364   \n",
       "1518   Worms  Villingen-Schwenningen        253.32             253   \n",
       "1519   Worms             Weissenhorn        274.24             264   \n",
       "1520   Worms                   Worms          0.00               0   \n",
       "\n",
       "     Terminal code (von) Terminal code (nach)  \n",
       "0                    AAH                  AAH  \n",
       "1                    AAH                  AQW  \n",
       "2                    AAH                  BER  \n",
       "3                    AAH                  BFE  \n",
       "4                    AAH                  BRE  \n",
       "...                  ...                  ...  \n",
       "1516                 ZQV                  THF  \n",
       "1517                 ZQV                  MUC  \n",
       "1518                 ZQV                  VIS  \n",
       "1519                 ZQV                  QUL  \n",
       "1520                 ZQV                  ZQV  \n",
       "\n",
       "[1521 rows x 6 columns]"
      ]
     },
     "execution_count": 7,
     "metadata": {},
     "output_type": "execute_result"
    }
   ],
   "source": [
    "# Assigning Terminal Codes to 'DataFrame - Distance between two Terminals' to maintain consistency in Index Columns\n",
    "df_distance_two_terminals = df_distance_two_terminals.merge(df_terminals[[\"Terminal name\", \"Terminal code\"]], how=\"left\", left_on=\"von\", right_on=\"Terminal name\")\n",
    "df_distance_two_terminals.drop(columns=\"Terminal name\", inplace=True)\n",
    "df_distance_two_terminals.rename(columns={\"Terminal code\": \"Terminal code (von)\"}, inplace=True)\n",
    "df_distance_two_terminals = df_distance_two_terminals.merge(df_terminals[[\"Terminal name\", \"Terminal code\"]], how=\"left\", left_on=\"nach\", right_on=\"Terminal name\")\n",
    "df_distance_two_terminals.drop(columns=\"Terminal name\", inplace=True)\n",
    "df_distance_two_terminals.rename(columns={\"Terminal code\": \"Terminal code (nach)\"}, inplace=True)\n",
    "df_distance_two_terminals"
   ]
  },
  {
   "cell_type": "code",
   "execution_count": 8,
   "id": "3e54d1e2-8453-4dc2-bd1b-f6473a6d807f",
   "metadata": {},
   "outputs": [
    {
     "name": "stdout",
     "output_type": "stream",
     "text": [
      "<class 'pandas.core.frame.DataFrame'>\n",
      "RangeIndex: 272508 entries, 0 to 272507\n",
      "Data columns (total 3 columns):\n",
      " #   Column                                 Non-Null Count   Dtype  \n",
      "---  ------                                 --------------   -----  \n",
      " 0   von                                    272508 non-null  object \n",
      " 1   nach                                   272508 non-null  object \n",
      " 2   Ø Anzahl Sendungen pro Tag (FEB 2025)  272508 non-null  float64\n",
      "dtypes: float64(1), object(2)\n",
      "memory usage: 6.2+ MB\n"
     ]
    }
   ],
   "source": [
    "# Summary of the DataFrame - Shipment Volume Matrix: From PLZ to PLZ\t\t\n",
    "df_shipmentvolume_postalcodes.info()\n",
    "\n",
    "# Ø SENDUNGEN ABH pro TagØ Anzahl Sendungen pro Tag (FEB 2025) ---- translated as -----> Average number of shipments per day for February 2025\n",
    "# all other PLZ-to-PLZ combinations have no shipment volume during the given time period.\t\n",
    "# International EXPORT shipments (collection in Germany, delivery in another country) have the respective export gateway (terminal where the international scheduled service starts) as their destination. \n",
    "# International IMPORT shipments (collection in another country, delivery in Germany) have the respective import gateway (terminal in Germany where the international scheduled service ends) as their origin.\t\t"
   ]
  },
  {
   "cell_type": "code",
   "execution_count": 9,
   "id": "e04829e4-2c9b-426f-98f1-43c1c580026c",
   "metadata": {},
   "outputs": [
    {
     "name": "stdout",
     "output_type": "stream",
     "text": [
      "<class 'pandas.core.frame.DataFrame'>\n",
      "RangeIndex: 47835 entries, 0 to 47834\n",
      "Data columns (total 2 columns):\n",
      " #   Column           Non-Null Count  Dtype\n",
      "---  ------           --------------  -----\n",
      " 0   PLZ              47835 non-null  int64\n",
      " 1   benachbarte PLZ  47835 non-null  int64\n",
      "dtypes: int64(2)\n",
      "memory usage: 747.6 KB\n"
     ]
    }
   ],
   "source": [
    "# Summary of the DataFrame - adjacent postal codes (PLZ) — essentially neighboring regions that are geographically close to each other.\t\n",
    "df_adjacent_postalcodes.info()"
   ]
  },
  {
   "cell_type": "code",
   "execution_count": 10,
   "id": "0d2fd318-ed29-48df-b2de-352222dc1a90",
   "metadata": {},
   "outputs": [
    {
     "name": "stdout",
     "output_type": "stream",
     "text": [
      "<class 'pandas.core.frame.DataFrame'>\n",
      "RangeIndex: 25 entries, 0 to 24\n",
      "Data columns (total 1 columns):\n",
      " #   Column             Non-Null Count  Dtype\n",
      "---  ------             --------------  -----\n",
      " 0   PLZ ohne Nachbarn  25 non-null     int64\n",
      "dtypes: int64(1)\n",
      "memory usage: 332.0 bytes\n"
     ]
    }
   ],
   "source": [
    "# Summary of the DataFrame - postal codes (PLZ) that have no neighboring PLZ — meaning these are isolated regions without immediate geographic neighbors. \n",
    "df_postalcodes_without_neighbors.info()"
   ]
  },
  {
   "cell_type": "code",
   "execution_count": 16,
   "id": "6fdfde38-0bc7-4b89-a82d-8358e54c12e5",
   "metadata": {},
   "outputs": [
    {
     "name": "stdout",
     "output_type": "stream",
     "text": [
      "Collecting pyscipopt\n",
      "  Downloading pyscipopt-5.4.1-cp312-cp312-macosx_14_0_arm64.whl.metadata (5.9 kB)\n",
      "Requirement already satisfied: numpy>=1.16.0 in /opt/anaconda3/lib/python3.12/site-packages (from pyscipopt) (1.26.4)\n",
      "Downloading pyscipopt-5.4.1-cp312-cp312-macosx_14_0_arm64.whl (7.2 MB)\n",
      "\u001b[2K   \u001b[90m━━━━━━━━━━━━━━━━━━━━━━━━━━━━━━━━━━━━━━━━\u001b[0m \u001b[32m7.2/7.2 MB\u001b[0m \u001b[31m27.0 MB/s\u001b[0m eta \u001b[36m0:00:00\u001b[0ma \u001b[36m0:00:01\u001b[0m\n",
      "\u001b[?25hInstalling collected packages: pyscipopt\n",
      "Successfully installed pyscipopt-5.4.1\n",
      "Note: you may need to restart the kernel to use updated packages.\n"
     ]
    }
   ],
   "source": [
    "# Using SCIP Solver\n",
    "pip install pyscipopt"
   ]
  },
  {
   "cell_type": "code",
   "execution_count": 18,
   "id": "31c31948-4347-4c31-b097-d19e45fc4289",
   "metadata": {},
   "outputs": [],
   "source": [
    "# Import library\n",
    "from pyscipopt import Model, quicksum"
   ]
  },
  {
   "cell_type": "code",
   "execution_count": 19,
   "id": "492ced84-b0dc-4831-adc7-181418b75e63",
   "metadata": {},
   "outputs": [],
   "source": [
    "# Get Data\n",
    "\n",
    "# Postal Codes List\n",
    "Vp = df_postalcodes['PLZ (ZAHL)'].tolist() # Set of Postal Code areas (PLZs).\n",
    "Vp_idx = range(len(Vp))\n",
    "Vp_map = {plz: i for i, plz in enumerate(Vp)}\n",
    "\n",
    "# Terminals List\n",
    "Vt = df_terminals['Terminal code'].tolist() # Set of existing Terminal locations.\n",
    "Vt_idx = range(len(Vt))\n",
    "Vt_map = {t: j for j, t in enumerate(Vt)}\n",
    "\n",
    "# Create connection cost dictionary: C[i][j] \n",
    "# Cost associated with assigning PLZ i to Terminal j (collection/distribution leg cost) and is a function of distance.\n",
    "C = {}\n",
    "for _, row in df_distance_postalcodes_terminal.iterrows():\n",
    "    i = Vp_map[row['von PLZ (ZAHL)']]\n",
    "    j = Vt_map[row['nach Terminalcode']]\n",
    "    C[i, j] = row['Distanz (km)']\n",
    "\n",
    "# Create linehaul cost dictionary: F[m][h] = cost for transport between Terminal m and Terminal h.\n",
    "F = {}\n",
    "for _, row in df_distance_two_terminals.iterrows():\n",
    "    m = Vt_map[row['Terminal code (von)']]\n",
    "    h = Vt_map[row['Terminal code (nach)']]\n",
    "    F[m, h] = row['Distanz (km)']\n",
    "\n",
    "# Delivery volume destined for PLZ i.\n",
    "D = df_postalcodes['Ø SENDUNGEN ZUS pro Tag'].tolist() \n",
    "\n",
    "# Capacity limit of Terminal j.\n",
    "B = df_terminals['MAX. KAPA SE (# ZUSTELLUNGEN pro Tag)'].tolist() \n",
    "\n",
    "# Set of neighboring PLZs for PLZ i, defined based on adjacency parameter Zik. N(i) = {k ∈ Vp | k=i,Zik = 1}.\n",
    "\n",
    "df_adjacent_postalcodes['PLZ_idx'] = df_adjacent_postalcodes['PLZ'].map(Vp_map)\n",
    "df_adjacent_postalcodes['benachbarte_idx'] = df_adjacent_postalcodes['benachbarte PLZ'].map(Vp_map)\n",
    "\n",
    "# Drop rows where mapping failed (e.g., postal codes not found in Vp)\n",
    "df_adjacent_postalcodes = df_adjacent_postalcodes.dropna(subset=['PLZ_idx', 'benachbarte_idx'])\n",
    "\n",
    "# Convert float indices to int (map returns floats if NaN is possible)\n",
    "df_adjacent_postalcodes['PLZ_idx'] = df_adjacent_postalcodes['PLZ_idx'].astype(int)\n",
    "df_adjacent_postalcodes['benachbarte_idx'] = df_adjacent_postalcodes['benachbarte_idx'].astype(int)\n",
    "\n",
    "# Group and build the adjacency dictionary\n",
    "N = df_adjacent_postalcodes.groupby('PLZ_idx')['benachbarte_idx'].apply(list).to_dict()"
   ]
  },
  {
   "cell_type": "code",
   "execution_count": null,
   "id": "3d4cc0b2-e5d7-4105-a5c0-50a45a090661",
   "metadata": {},
   "outputs": [],
   "source": [
    "# Create model\n",
    "model = Model(\"FacilityLocation\")\n",
    "\n",
    "# Set solver parameters\n",
    "model.setRealParam(\"limits/time\", 1800)  # Set time limit to 30 minutes\n",
    "model.setRealParam(\"limits/gap\", 0.05)  # Set optimality gap to 5%\n",
    "model.setIntParam(\"display/verblevel\", 3)  # Set verbosity to level 3 for detailed output\n",
    "\n",
    "\n",
    "# Decision variables\n",
    "x = {(i, j): model.addVar(vtype=\"BINARY\") for i in Vp_idx for j in Vt_idx}\n",
    "#  xij ∈ {0,1}: 1 if PLZ i is assigned to Terminal j, 0 otherwise.\n",
    "\n",
    "y = {(i, k, m, h): model.addVar(vtype=\"BINARY\") for i in Vp_idx for k in Vp_idx for m in Vt_idx for h in Vt_idx}\n",
    "# yikmh ∈ {0,1}: 1 if flow occurs between terminals m and h due to an origin PLZ i assigned to m and a destination PLZ k assigned to h, 0 otherwise.\n",
    "\n",
    "z = {i: model.addVar(vtype=\"BINARY\") for i in Vp_idx}\n",
    "# zi:  if a PLZ i has neighbors then zi = 1 else 0\n",
    "\n",
    "# Objective: Minimize total cost\n",
    "model.setObjective(\n",
    "    quicksum(C[i, j] * x[i, j] for i, j in C) +\n",
    "    quicksum(F[m, h] * y[i, k, m, h] for i, k, m, h in y),\n",
    "    sense='minimize'\n",
    ")\n",
    "\n",
    "# Constraints:\n",
    "# Single allocation constraint: every PLZ i is assigned to exactly one terminal j.\n",
    "for i in Vp_idx:\n",
    "    model.addCons(quicksum(x[i, j] for j in Vt_idx) == 1)\n",
    "\n",
    "# Capacity constraint: total assigned pickup and delivery volume for any terminal j respects its capacity bj.\n",
    "for j in Vt_idx:\n",
    "    model.addCons(quicksum(D[i] * x[i, j] for i in Vp_idx) <= B[j])\n",
    "\n",
    "# Connectivity constraint: if a PLZ i has neighbors (zi = 1) and is assigned to terminal j (xij = 1), \n",
    "                            # then at least one of its neighbors k ∈ N(i) must also be assigned to terminal j ( k∈N(i)xkj ≥ 1). \n",
    "                            # If zi = 0, the constraint becomes 0 ≥ 0 and is non-restrictive.\n",
    "for i in Vp_idx:\n",
    "    for j in Vt_idx:\n",
    "       model.addCons(z[i] * quicksum(x[k, j] - x[i, j] for k in N[i]) >= 0)\n",
    "\n",
    "# Linearize the relationship yikmh = xim ∧ xkh. \n",
    "# They ensure the linehaul cost fmh is considered in the objective if and only if \n",
    "# the origin PLZ i is assigned to terminal m and the destination PLZ k is assigned to terminal h.\n",
    "\n",
    "for i in Vp_idx:\n",
    "    for k in Vp_idx:\n",
    "        for m in Vt_idx:\n",
    "            for h in Vt_idx:\n",
    "                model.addCons(y[i, k, m, h] <= x[i, m])\n",
    "                model.addCons(y[i, k, m, h] <= x[k, h])\n",
    "                model.addCons(y[i, k, m, h] >= x[i, m] + x[k, h] - 1)                \n",
    "\n",
    "# Solve\n",
    "model.optimize()\n",
    "\n",
    "# Output\n",
    "print(\"Objective value:\", model.getObjVal())\n",
    "print(\"Status:\", model.getStatus())\n",
    "#print(\"\\n--- Solution ---\")\n",
    "#for j in Vt_idx:\n",
    "#    for i in Vp_idx:\n",
    "#        if model.getVal(x[i, j]) > 0.5:\n",
    "#            print(f\" - PLZ {Vp[i]} assigned to Terminal {Vt[j]}\")"
   ]
  },
  {
   "cell_type": "code",
   "execution_count": null,
   "id": "6259b280-24f7-4086-89be-e6fa818adae9",
   "metadata": {},
   "outputs": [],
   "source": []
  }
 ],
 "metadata": {
  "kernelspec": {
   "display_name": "Python 3 (ipykernel)",
   "language": "python",
   "name": "python3"
  },
  "language_info": {
   "codemirror_mode": {
    "name": "ipython",
    "version": 3
   },
   "file_extension": ".py",
   "mimetype": "text/x-python",
   "name": "python",
   "nbconvert_exporter": "python",
   "pygments_lexer": "ipython3",
   "version": "3.12.4"
  }
 },
 "nbformat": 4,
 "nbformat_minor": 5
}
